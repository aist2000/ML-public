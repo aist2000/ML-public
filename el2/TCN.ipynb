{
  "nbformat": 4,
  "nbformat_minor": 0,
  "metadata": {
    "colab": {
      "provenance": [],
      "authorship_tag": "ABX9TyOv8NDGrWixTT8zsKoO5zds",
      "include_colab_link": true
    },
    "kernelspec": {
      "name": "python3",
      "display_name": "Python 3"
    },
    "language_info": {
      "name": "python"
    }
  },
  "cells": [
    {
      "cell_type": "markdown",
      "metadata": {
        "id": "view-in-github",
        "colab_type": "text"
      },
      "source": [
        "<a href=\"https://colab.research.google.com/github/aist2000/ML-public/blob/master/el2/TCN.ipynb\" target=\"_parent\"><img src=\"https://colab.research.google.com/assets/colab-badge.svg\" alt=\"Open In Colab\"/></a>"
      ]
    },
    {
      "cell_type": "markdown",
      "source": [
        "# TCN method"
      ],
      "metadata": {
        "id": "fZPXmERnW7U5"
      }
    },
    {
      "cell_type": "code",
      "execution_count": 172,
      "metadata": {
        "id": "1fy6WavzW0lY"
      },
      "outputs": [],
      "source": [
        "import numpy as np\n",
        "from sklearn.preprocessing import StandardScaler\n",
        "from tensorflow.keras.models import Sequential\n",
        "from tensorflow.keras.layers import Conv1D, Dense, Dropout, Activation, TimeDistributed\n",
        "from tensorflow.keras.callbacks import EarlyStopping\n",
        "\n",
        "def create_dataset(dataset, window_size=1, stride=1):\n",
        "    \"\"\"\n",
        "    Creates a dataset of sliding windows.\n",
        "\n",
        "    Args:\n",
        "      dataset: The input dataset as a NumPy array.\n",
        "      window_size: The size of the sliding window.\n",
        "      stride: The stride for the sliding window.\n",
        "\n",
        "    Returns:\n",
        "      A NumPy array of windows.\n",
        "    \"\"\"\n",
        "    X = list()\n",
        "    for i in range(window_size, len(dataset) - window_size + 1, stride):\n",
        "        X.append(dataset[i-window_size:i, 1:])  # Exclude time column\n",
        "    return np.array(X)\n",
        "\n",
        "def train_model(X_train):\n",
        "    \"\"\"\n",
        "    Trains a TCN autoencoder model for anomaly detection.\n",
        "\n",
        "    Args:\n",
        "      X_train: The training input data.\n",
        "\n",
        "    Returns:\n",
        "      A trained TCN autoencoder model.\n",
        "    \"\"\"\n",
        "    num_features = X_train.shape[2]\n",
        "    model = Sequential()\n",
        "    model.add(Conv1D(filters=64, kernel_size=3, activation='relu', input_shape=(window_size, num_features), padding='same', dilation_rate=1))\n",
        "    model.add(Conv1D(filters=32, kernel_size=3, activation='relu', padding='same', dilation_rate=2))\n",
        "    model.add(Conv1D(filters=16, kernel_size=3, activation='relu', padding='same', dilation_rate=4))\n",
        "    # Add more Conv1D layers with increasing dilation rates as needed\n",
        "\n",
        "    # Decoder (upsampling and reconstruction)\n",
        "    model.add(Conv1D(filters=16, kernel_size=3, activation='relu', padding='same', dilation_rate=4))\n",
        "    model.add(Conv1D(filters=32, kernel_size=3, activation='relu', padding='same', dilation_rate=2))\n",
        "    model.add(Conv1D(filters=64, kernel_size=3, activation='relu', padding='same', dilation_rate=1))\n",
        "    model.add(TimeDistributed(Dense(num_features)))  # Reconstruct the input\n",
        "\n",
        "    model.compile(optimizer='adam', loss='mse')\n",
        "    early_stopping = EarlyStopping(monitor='val_loss', patience=10)\n",
        "    model.fit(X_train, X_train, epochs=100, batch_size=32, verbose=1, validation_split=0.2, callbacks=[early_stopping])\n",
        "    return model\n",
        "\n",
        "def predict_anomalies(model, X_test, threshold=0.1, stride=1):\n",
        "    \"\"\"\n",
        "    Predicts anomaly windows and observations based on the trained model and a threshold.\n",
        "\n",
        "    Args:\n",
        "      model: The trained TCN autoencoder model.\n",
        "      X_test: The test input data.\n",
        "      threshold: The threshold for anomaly detection.\n",
        "      stride: The stride used for creating the sliding windows.\n",
        "\n",
        "    Returns:\n",
        "      A tuple containing:\n",
        "        - anomaly_windows: A list of indices for windows containing anomalies.\n",
        "        - anomaly_observations: A list of indices for observations considered anomalous.\n",
        "    \"\"\"\n",
        "    predictions = model.predict(X_test)\n",
        "    mse = np.mean(np.square(predictions - X_test), axis=2)  # Calculate MSE for each time step\n",
        "    threshold = np.percentile(mse, 95)  # Example threshold (95th percentile)\n",
        "\n",
        "    anomaly_windows = np.where(np.any(mse > threshold, axis=1))[0]  # Identify anomaly windows\n",
        "    anomaly_observations = list()\n",
        "    for window_index in anomaly_windows:\n",
        "        window = mse[window_index]\n",
        "        anomaly_indices = np.where(window > threshold)[0]  # Find anomalies within the window\n",
        "        # Adjust indices to correspond to original dataset\n",
        "        anomaly_observations.extend(window_index * stride + anomaly_indices)\n",
        "\n",
        "    return predictions, anomaly_windows, anomaly_observations\n",
        "\n"
      ]
    },
    {
      "cell_type": "code",
      "source": [
        " X_train.shape[2]"
      ],
      "metadata": {
        "id": "kPlWxqR7aeGN",
        "outputId": "16bb0622-4e6a-4aac-ef89-5e94749754eb",
        "colab": {
          "base_uri": "https://localhost:8080/"
        }
      },
      "execution_count": 223,
      "outputs": [
        {
          "output_type": "execute_result",
          "data": {
            "text/plain": [
              "3"
            ]
          },
          "metadata": {},
          "execution_count": 223
        }
      ]
    },
    {
      "cell_type": "code",
      "source": [
        "#import numpy as np\n",
        "import pandas as pd\n",
        "'''\n",
        "data = np.array([\n",
        "   [100,0, 0], [101,0, 0],[102,0, 1],[103,0, 1],[104,0, 1],[105,1, 1],[106,0, 1],[107,0, 1],[108,0, 1],[109,1, 1],[110,0, 1]\n",
        "              ,[111,0, 0], [112,0, 0],[113,0, 1],[114,0, 1],[115,0, 1],[116,1, 1],[117,0, 1],[118,0, 1],[119,0, 1],[120,1, 1]\n",
        "              ,[121,0, 0], [122,0, 0],[123,0, 1],[124,0, 1],[125,0, 1],[126,1, 1],[127,0, 1],[128,0, 1],[129,0, 1],[130,1, 1]\n",
        "  ])\n",
        "'''\n",
        "url=\"https://raw.githubusercontent.com/aist2000/ML-public/master/el2/data.csv\"\n",
        "#url=\"dataset.csv\"\n",
        "df = pd.read_csv(url, skiprows=0, header=None)\n",
        "display(df.head())\n",
        "display(df.describe())\n",
        "data = df.to_numpy()"
      ],
      "metadata": {
        "id": "VNGV0XMgOmdT",
        "outputId": "40f7bfaa-6bd7-4644-b021-75322356dbf1",
        "colab": {
          "base_uri": "https://localhost:8080/",
          "height": 489
        }
      },
      "execution_count": 224,
      "outputs": [
        {
          "output_type": "display_data",
          "data": {
            "text/plain": [
              "     0  1  2  3\n",
              "0  100  0  0  0\n",
              "1  101  0  0  0\n",
              "2  102  0  0  0\n",
              "3  103  0  0  0\n",
              "4  104  0  0  0"
            ],
            "text/html": [
              "\n",
              "  <div id=\"df-ebd3f5a0-7a03-4db2-9ba8-28b0220a1921\" class=\"colab-df-container\">\n",
              "    <div>\n",
              "<style scoped>\n",
              "    .dataframe tbody tr th:only-of-type {\n",
              "        vertical-align: middle;\n",
              "    }\n",
              "\n",
              "    .dataframe tbody tr th {\n",
              "        vertical-align: top;\n",
              "    }\n",
              "\n",
              "    .dataframe thead th {\n",
              "        text-align: right;\n",
              "    }\n",
              "</style>\n",
              "<table border=\"1\" class=\"dataframe\">\n",
              "  <thead>\n",
              "    <tr style=\"text-align: right;\">\n",
              "      <th></th>\n",
              "      <th>0</th>\n",
              "      <th>1</th>\n",
              "      <th>2</th>\n",
              "      <th>3</th>\n",
              "    </tr>\n",
              "  </thead>\n",
              "  <tbody>\n",
              "    <tr>\n",
              "      <th>0</th>\n",
              "      <td>100</td>\n",
              "      <td>0</td>\n",
              "      <td>0</td>\n",
              "      <td>0</td>\n",
              "    </tr>\n",
              "    <tr>\n",
              "      <th>1</th>\n",
              "      <td>101</td>\n",
              "      <td>0</td>\n",
              "      <td>0</td>\n",
              "      <td>0</td>\n",
              "    </tr>\n",
              "    <tr>\n",
              "      <th>2</th>\n",
              "      <td>102</td>\n",
              "      <td>0</td>\n",
              "      <td>0</td>\n",
              "      <td>0</td>\n",
              "    </tr>\n",
              "    <tr>\n",
              "      <th>3</th>\n",
              "      <td>103</td>\n",
              "      <td>0</td>\n",
              "      <td>0</td>\n",
              "      <td>0</td>\n",
              "    </tr>\n",
              "    <tr>\n",
              "      <th>4</th>\n",
              "      <td>104</td>\n",
              "      <td>0</td>\n",
              "      <td>0</td>\n",
              "      <td>0</td>\n",
              "    </tr>\n",
              "  </tbody>\n",
              "</table>\n",
              "</div>\n",
              "    <div class=\"colab-df-buttons\">\n",
              "\n",
              "  <div class=\"colab-df-container\">\n",
              "    <button class=\"colab-df-convert\" onclick=\"convertToInteractive('df-ebd3f5a0-7a03-4db2-9ba8-28b0220a1921')\"\n",
              "            title=\"Convert this dataframe to an interactive table.\"\n",
              "            style=\"display:none;\">\n",
              "\n",
              "  <svg xmlns=\"http://www.w3.org/2000/svg\" height=\"24px\" viewBox=\"0 -960 960 960\">\n",
              "    <path d=\"M120-120v-720h720v720H120Zm60-500h600v-160H180v160Zm220 220h160v-160H400v160Zm0 220h160v-160H400v160ZM180-400h160v-160H180v160Zm440 0h160v-160H620v160ZM180-180h160v-160H180v160Zm440 0h160v-160H620v160Z\"/>\n",
              "  </svg>\n",
              "    </button>\n",
              "\n",
              "  <style>\n",
              "    .colab-df-container {\n",
              "      display:flex;\n",
              "      gap: 12px;\n",
              "    }\n",
              "\n",
              "    .colab-df-convert {\n",
              "      background-color: #E8F0FE;\n",
              "      border: none;\n",
              "      border-radius: 50%;\n",
              "      cursor: pointer;\n",
              "      display: none;\n",
              "      fill: #1967D2;\n",
              "      height: 32px;\n",
              "      padding: 0 0 0 0;\n",
              "      width: 32px;\n",
              "    }\n",
              "\n",
              "    .colab-df-convert:hover {\n",
              "      background-color: #E2EBFA;\n",
              "      box-shadow: 0px 1px 2px rgba(60, 64, 67, 0.3), 0px 1px 3px 1px rgba(60, 64, 67, 0.15);\n",
              "      fill: #174EA6;\n",
              "    }\n",
              "\n",
              "    .colab-df-buttons div {\n",
              "      margin-bottom: 4px;\n",
              "    }\n",
              "\n",
              "    [theme=dark] .colab-df-convert {\n",
              "      background-color: #3B4455;\n",
              "      fill: #D2E3FC;\n",
              "    }\n",
              "\n",
              "    [theme=dark] .colab-df-convert:hover {\n",
              "      background-color: #434B5C;\n",
              "      box-shadow: 0px 1px 3px 1px rgba(0, 0, 0, 0.15);\n",
              "      filter: drop-shadow(0px 1px 2px rgba(0, 0, 0, 0.3));\n",
              "      fill: #FFFFFF;\n",
              "    }\n",
              "  </style>\n",
              "\n",
              "    <script>\n",
              "      const buttonEl =\n",
              "        document.querySelector('#df-ebd3f5a0-7a03-4db2-9ba8-28b0220a1921 button.colab-df-convert');\n",
              "      buttonEl.style.display =\n",
              "        google.colab.kernel.accessAllowed ? 'block' : 'none';\n",
              "\n",
              "      async function convertToInteractive(key) {\n",
              "        const element = document.querySelector('#df-ebd3f5a0-7a03-4db2-9ba8-28b0220a1921');\n",
              "        const dataTable =\n",
              "          await google.colab.kernel.invokeFunction('convertToInteractive',\n",
              "                                                    [key], {});\n",
              "        if (!dataTable) return;\n",
              "\n",
              "        const docLinkHtml = 'Like what you see? Visit the ' +\n",
              "          '<a target=\"_blank\" href=https://colab.research.google.com/notebooks/data_table.ipynb>data table notebook</a>'\n",
              "          + ' to learn more about interactive tables.';\n",
              "        element.innerHTML = '';\n",
              "        dataTable['output_type'] = 'display_data';\n",
              "        await google.colab.output.renderOutput(dataTable, element);\n",
              "        const docLink = document.createElement('div');\n",
              "        docLink.innerHTML = docLinkHtml;\n",
              "        element.appendChild(docLink);\n",
              "      }\n",
              "    </script>\n",
              "  </div>\n",
              "\n",
              "\n",
              "<div id=\"df-fb7047f1-c384-470a-ad81-eae0b0addd6d\">\n",
              "  <button class=\"colab-df-quickchart\" onclick=\"quickchart('df-fb7047f1-c384-470a-ad81-eae0b0addd6d')\"\n",
              "            title=\"Suggest charts\"\n",
              "            style=\"display:none;\">\n",
              "\n",
              "<svg xmlns=\"http://www.w3.org/2000/svg\" height=\"24px\"viewBox=\"0 0 24 24\"\n",
              "     width=\"24px\">\n",
              "    <g>\n",
              "        <path d=\"M19 3H5c-1.1 0-2 .9-2 2v14c0 1.1.9 2 2 2h14c1.1 0 2-.9 2-2V5c0-1.1-.9-2-2-2zM9 17H7v-7h2v7zm4 0h-2V7h2v10zm4 0h-2v-4h2v4z\"/>\n",
              "    </g>\n",
              "</svg>\n",
              "  </button>\n",
              "\n",
              "<style>\n",
              "  .colab-df-quickchart {\n",
              "      --bg-color: #E8F0FE;\n",
              "      --fill-color: #1967D2;\n",
              "      --hover-bg-color: #E2EBFA;\n",
              "      --hover-fill-color: #174EA6;\n",
              "      --disabled-fill-color: #AAA;\n",
              "      --disabled-bg-color: #DDD;\n",
              "  }\n",
              "\n",
              "  [theme=dark] .colab-df-quickchart {\n",
              "      --bg-color: #3B4455;\n",
              "      --fill-color: #D2E3FC;\n",
              "      --hover-bg-color: #434B5C;\n",
              "      --hover-fill-color: #FFFFFF;\n",
              "      --disabled-bg-color: #3B4455;\n",
              "      --disabled-fill-color: #666;\n",
              "  }\n",
              "\n",
              "  .colab-df-quickchart {\n",
              "    background-color: var(--bg-color);\n",
              "    border: none;\n",
              "    border-radius: 50%;\n",
              "    cursor: pointer;\n",
              "    display: none;\n",
              "    fill: var(--fill-color);\n",
              "    height: 32px;\n",
              "    padding: 0;\n",
              "    width: 32px;\n",
              "  }\n",
              "\n",
              "  .colab-df-quickchart:hover {\n",
              "    background-color: var(--hover-bg-color);\n",
              "    box-shadow: 0 1px 2px rgba(60, 64, 67, 0.3), 0 1px 3px 1px rgba(60, 64, 67, 0.15);\n",
              "    fill: var(--button-hover-fill-color);\n",
              "  }\n",
              "\n",
              "  .colab-df-quickchart-complete:disabled,\n",
              "  .colab-df-quickchart-complete:disabled:hover {\n",
              "    background-color: var(--disabled-bg-color);\n",
              "    fill: var(--disabled-fill-color);\n",
              "    box-shadow: none;\n",
              "  }\n",
              "\n",
              "  .colab-df-spinner {\n",
              "    border: 2px solid var(--fill-color);\n",
              "    border-color: transparent;\n",
              "    border-bottom-color: var(--fill-color);\n",
              "    animation:\n",
              "      spin 1s steps(1) infinite;\n",
              "  }\n",
              "\n",
              "  @keyframes spin {\n",
              "    0% {\n",
              "      border-color: transparent;\n",
              "      border-bottom-color: var(--fill-color);\n",
              "      border-left-color: var(--fill-color);\n",
              "    }\n",
              "    20% {\n",
              "      border-color: transparent;\n",
              "      border-left-color: var(--fill-color);\n",
              "      border-top-color: var(--fill-color);\n",
              "    }\n",
              "    30% {\n",
              "      border-color: transparent;\n",
              "      border-left-color: var(--fill-color);\n",
              "      border-top-color: var(--fill-color);\n",
              "      border-right-color: var(--fill-color);\n",
              "    }\n",
              "    40% {\n",
              "      border-color: transparent;\n",
              "      border-right-color: var(--fill-color);\n",
              "      border-top-color: var(--fill-color);\n",
              "    }\n",
              "    60% {\n",
              "      border-color: transparent;\n",
              "      border-right-color: var(--fill-color);\n",
              "    }\n",
              "    80% {\n",
              "      border-color: transparent;\n",
              "      border-right-color: var(--fill-color);\n",
              "      border-bottom-color: var(--fill-color);\n",
              "    }\n",
              "    90% {\n",
              "      border-color: transparent;\n",
              "      border-bottom-color: var(--fill-color);\n",
              "    }\n",
              "  }\n",
              "</style>\n",
              "\n",
              "  <script>\n",
              "    async function quickchart(key) {\n",
              "      const quickchartButtonEl =\n",
              "        document.querySelector('#' + key + ' button');\n",
              "      quickchartButtonEl.disabled = true;  // To prevent multiple clicks.\n",
              "      quickchartButtonEl.classList.add('colab-df-spinner');\n",
              "      try {\n",
              "        const charts = await google.colab.kernel.invokeFunction(\n",
              "            'suggestCharts', [key], {});\n",
              "      } catch (error) {\n",
              "        console.error('Error during call to suggestCharts:', error);\n",
              "      }\n",
              "      quickchartButtonEl.classList.remove('colab-df-spinner');\n",
              "      quickchartButtonEl.classList.add('colab-df-quickchart-complete');\n",
              "    }\n",
              "    (() => {\n",
              "      let quickchartButtonEl =\n",
              "        document.querySelector('#df-fb7047f1-c384-470a-ad81-eae0b0addd6d button');\n",
              "      quickchartButtonEl.style.display =\n",
              "        google.colab.kernel.accessAllowed ? 'block' : 'none';\n",
              "    })();\n",
              "  </script>\n",
              "</div>\n",
              "\n",
              "    </div>\n",
              "  </div>\n"
            ],
            "application/vnd.google.colaboratory.intrinsic+json": {
              "type": "dataframe",
              "summary": "{\n  \"name\": \"data = df\",\n  \"rows\": 5,\n  \"fields\": [\n    {\n      \"column\": 0,\n      \"properties\": {\n        \"dtype\": \"number\",\n        \"std\": 1,\n        \"min\": 100,\n        \"max\": 104,\n        \"num_unique_values\": 5,\n        \"samples\": [\n          101,\n          104,\n          102\n        ],\n        \"semantic_type\": \"\",\n        \"description\": \"\"\n      }\n    },\n    {\n      \"column\": 1,\n      \"properties\": {\n        \"dtype\": \"number\",\n        \"std\": 0,\n        \"min\": 0,\n        \"max\": 0,\n        \"num_unique_values\": 1,\n        \"samples\": [\n          0\n        ],\n        \"semantic_type\": \"\",\n        \"description\": \"\"\n      }\n    },\n    {\n      \"column\": 2,\n      \"properties\": {\n        \"dtype\": \"number\",\n        \"std\": 0,\n        \"min\": 0,\n        \"max\": 0,\n        \"num_unique_values\": 1,\n        \"samples\": [\n          0\n        ],\n        \"semantic_type\": \"\",\n        \"description\": \"\"\n      }\n    },\n    {\n      \"column\": 3,\n      \"properties\": {\n        \"dtype\": \"number\",\n        \"std\": 0,\n        \"min\": 0,\n        \"max\": 0,\n        \"num_unique_values\": 1,\n        \"samples\": [\n          0\n        ],\n        \"semantic_type\": \"\",\n        \"description\": \"\"\n      }\n    }\n  ]\n}"
            }
          },
          "metadata": {}
        },
        {
          "output_type": "display_data",
          "data": {
            "text/plain": [
              "               0      1           2      3\n",
              "count  700.00000  700.0  700.000000  700.0\n",
              "mean   449.50000    0.0    0.001429    0.0\n",
              "std    202.21688    0.0    0.037796    0.0\n",
              "min    100.00000    0.0    0.000000    0.0\n",
              "25%    274.75000    0.0    0.000000    0.0\n",
              "50%    449.50000    0.0    0.000000    0.0\n",
              "75%    624.25000    0.0    0.000000    0.0\n",
              "max    799.00000    0.0    1.000000    0.0"
            ],
            "text/html": [
              "\n",
              "  <div id=\"df-3a1295f6-c3ab-4601-ba98-9a4a5e77f478\" class=\"colab-df-container\">\n",
              "    <div>\n",
              "<style scoped>\n",
              "    .dataframe tbody tr th:only-of-type {\n",
              "        vertical-align: middle;\n",
              "    }\n",
              "\n",
              "    .dataframe tbody tr th {\n",
              "        vertical-align: top;\n",
              "    }\n",
              "\n",
              "    .dataframe thead th {\n",
              "        text-align: right;\n",
              "    }\n",
              "</style>\n",
              "<table border=\"1\" class=\"dataframe\">\n",
              "  <thead>\n",
              "    <tr style=\"text-align: right;\">\n",
              "      <th></th>\n",
              "      <th>0</th>\n",
              "      <th>1</th>\n",
              "      <th>2</th>\n",
              "      <th>3</th>\n",
              "    </tr>\n",
              "  </thead>\n",
              "  <tbody>\n",
              "    <tr>\n",
              "      <th>count</th>\n",
              "      <td>700.00000</td>\n",
              "      <td>700.0</td>\n",
              "      <td>700.000000</td>\n",
              "      <td>700.0</td>\n",
              "    </tr>\n",
              "    <tr>\n",
              "      <th>mean</th>\n",
              "      <td>449.50000</td>\n",
              "      <td>0.0</td>\n",
              "      <td>0.001429</td>\n",
              "      <td>0.0</td>\n",
              "    </tr>\n",
              "    <tr>\n",
              "      <th>std</th>\n",
              "      <td>202.21688</td>\n",
              "      <td>0.0</td>\n",
              "      <td>0.037796</td>\n",
              "      <td>0.0</td>\n",
              "    </tr>\n",
              "    <tr>\n",
              "      <th>min</th>\n",
              "      <td>100.00000</td>\n",
              "      <td>0.0</td>\n",
              "      <td>0.000000</td>\n",
              "      <td>0.0</td>\n",
              "    </tr>\n",
              "    <tr>\n",
              "      <th>25%</th>\n",
              "      <td>274.75000</td>\n",
              "      <td>0.0</td>\n",
              "      <td>0.000000</td>\n",
              "      <td>0.0</td>\n",
              "    </tr>\n",
              "    <tr>\n",
              "      <th>50%</th>\n",
              "      <td>449.50000</td>\n",
              "      <td>0.0</td>\n",
              "      <td>0.000000</td>\n",
              "      <td>0.0</td>\n",
              "    </tr>\n",
              "    <tr>\n",
              "      <th>75%</th>\n",
              "      <td>624.25000</td>\n",
              "      <td>0.0</td>\n",
              "      <td>0.000000</td>\n",
              "      <td>0.0</td>\n",
              "    </tr>\n",
              "    <tr>\n",
              "      <th>max</th>\n",
              "      <td>799.00000</td>\n",
              "      <td>0.0</td>\n",
              "      <td>1.000000</td>\n",
              "      <td>0.0</td>\n",
              "    </tr>\n",
              "  </tbody>\n",
              "</table>\n",
              "</div>\n",
              "    <div class=\"colab-df-buttons\">\n",
              "\n",
              "  <div class=\"colab-df-container\">\n",
              "    <button class=\"colab-df-convert\" onclick=\"convertToInteractive('df-3a1295f6-c3ab-4601-ba98-9a4a5e77f478')\"\n",
              "            title=\"Convert this dataframe to an interactive table.\"\n",
              "            style=\"display:none;\">\n",
              "\n",
              "  <svg xmlns=\"http://www.w3.org/2000/svg\" height=\"24px\" viewBox=\"0 -960 960 960\">\n",
              "    <path d=\"M120-120v-720h720v720H120Zm60-500h600v-160H180v160Zm220 220h160v-160H400v160Zm0 220h160v-160H400v160ZM180-400h160v-160H180v160Zm440 0h160v-160H620v160ZM180-180h160v-160H180v160Zm440 0h160v-160H620v160Z\"/>\n",
              "  </svg>\n",
              "    </button>\n",
              "\n",
              "  <style>\n",
              "    .colab-df-container {\n",
              "      display:flex;\n",
              "      gap: 12px;\n",
              "    }\n",
              "\n",
              "    .colab-df-convert {\n",
              "      background-color: #E8F0FE;\n",
              "      border: none;\n",
              "      border-radius: 50%;\n",
              "      cursor: pointer;\n",
              "      display: none;\n",
              "      fill: #1967D2;\n",
              "      height: 32px;\n",
              "      padding: 0 0 0 0;\n",
              "      width: 32px;\n",
              "    }\n",
              "\n",
              "    .colab-df-convert:hover {\n",
              "      background-color: #E2EBFA;\n",
              "      box-shadow: 0px 1px 2px rgba(60, 64, 67, 0.3), 0px 1px 3px 1px rgba(60, 64, 67, 0.15);\n",
              "      fill: #174EA6;\n",
              "    }\n",
              "\n",
              "    .colab-df-buttons div {\n",
              "      margin-bottom: 4px;\n",
              "    }\n",
              "\n",
              "    [theme=dark] .colab-df-convert {\n",
              "      background-color: #3B4455;\n",
              "      fill: #D2E3FC;\n",
              "    }\n",
              "\n",
              "    [theme=dark] .colab-df-convert:hover {\n",
              "      background-color: #434B5C;\n",
              "      box-shadow: 0px 1px 3px 1px rgba(0, 0, 0, 0.15);\n",
              "      filter: drop-shadow(0px 1px 2px rgba(0, 0, 0, 0.3));\n",
              "      fill: #FFFFFF;\n",
              "    }\n",
              "  </style>\n",
              "\n",
              "    <script>\n",
              "      const buttonEl =\n",
              "        document.querySelector('#df-3a1295f6-c3ab-4601-ba98-9a4a5e77f478 button.colab-df-convert');\n",
              "      buttonEl.style.display =\n",
              "        google.colab.kernel.accessAllowed ? 'block' : 'none';\n",
              "\n",
              "      async function convertToInteractive(key) {\n",
              "        const element = document.querySelector('#df-3a1295f6-c3ab-4601-ba98-9a4a5e77f478');\n",
              "        const dataTable =\n",
              "          await google.colab.kernel.invokeFunction('convertToInteractive',\n",
              "                                                    [key], {});\n",
              "        if (!dataTable) return;\n",
              "\n",
              "        const docLinkHtml = 'Like what you see? Visit the ' +\n",
              "          '<a target=\"_blank\" href=https://colab.research.google.com/notebooks/data_table.ipynb>data table notebook</a>'\n",
              "          + ' to learn more about interactive tables.';\n",
              "        element.innerHTML = '';\n",
              "        dataTable['output_type'] = 'display_data';\n",
              "        await google.colab.output.renderOutput(dataTable, element);\n",
              "        const docLink = document.createElement('div');\n",
              "        docLink.innerHTML = docLinkHtml;\n",
              "        element.appendChild(docLink);\n",
              "      }\n",
              "    </script>\n",
              "  </div>\n",
              "\n",
              "\n",
              "<div id=\"df-5a22d383-f723-436b-964d-bee53f513af4\">\n",
              "  <button class=\"colab-df-quickchart\" onclick=\"quickchart('df-5a22d383-f723-436b-964d-bee53f513af4')\"\n",
              "            title=\"Suggest charts\"\n",
              "            style=\"display:none;\">\n",
              "\n",
              "<svg xmlns=\"http://www.w3.org/2000/svg\" height=\"24px\"viewBox=\"0 0 24 24\"\n",
              "     width=\"24px\">\n",
              "    <g>\n",
              "        <path d=\"M19 3H5c-1.1 0-2 .9-2 2v14c0 1.1.9 2 2 2h14c1.1 0 2-.9 2-2V5c0-1.1-.9-2-2-2zM9 17H7v-7h2v7zm4 0h-2V7h2v10zm4 0h-2v-4h2v4z\"/>\n",
              "    </g>\n",
              "</svg>\n",
              "  </button>\n",
              "\n",
              "<style>\n",
              "  .colab-df-quickchart {\n",
              "      --bg-color: #E8F0FE;\n",
              "      --fill-color: #1967D2;\n",
              "      --hover-bg-color: #E2EBFA;\n",
              "      --hover-fill-color: #174EA6;\n",
              "      --disabled-fill-color: #AAA;\n",
              "      --disabled-bg-color: #DDD;\n",
              "  }\n",
              "\n",
              "  [theme=dark] .colab-df-quickchart {\n",
              "      --bg-color: #3B4455;\n",
              "      --fill-color: #D2E3FC;\n",
              "      --hover-bg-color: #434B5C;\n",
              "      --hover-fill-color: #FFFFFF;\n",
              "      --disabled-bg-color: #3B4455;\n",
              "      --disabled-fill-color: #666;\n",
              "  }\n",
              "\n",
              "  .colab-df-quickchart {\n",
              "    background-color: var(--bg-color);\n",
              "    border: none;\n",
              "    border-radius: 50%;\n",
              "    cursor: pointer;\n",
              "    display: none;\n",
              "    fill: var(--fill-color);\n",
              "    height: 32px;\n",
              "    padding: 0;\n",
              "    width: 32px;\n",
              "  }\n",
              "\n",
              "  .colab-df-quickchart:hover {\n",
              "    background-color: var(--hover-bg-color);\n",
              "    box-shadow: 0 1px 2px rgba(60, 64, 67, 0.3), 0 1px 3px 1px rgba(60, 64, 67, 0.15);\n",
              "    fill: var(--button-hover-fill-color);\n",
              "  }\n",
              "\n",
              "  .colab-df-quickchart-complete:disabled,\n",
              "  .colab-df-quickchart-complete:disabled:hover {\n",
              "    background-color: var(--disabled-bg-color);\n",
              "    fill: var(--disabled-fill-color);\n",
              "    box-shadow: none;\n",
              "  }\n",
              "\n",
              "  .colab-df-spinner {\n",
              "    border: 2px solid var(--fill-color);\n",
              "    border-color: transparent;\n",
              "    border-bottom-color: var(--fill-color);\n",
              "    animation:\n",
              "      spin 1s steps(1) infinite;\n",
              "  }\n",
              "\n",
              "  @keyframes spin {\n",
              "    0% {\n",
              "      border-color: transparent;\n",
              "      border-bottom-color: var(--fill-color);\n",
              "      border-left-color: var(--fill-color);\n",
              "    }\n",
              "    20% {\n",
              "      border-color: transparent;\n",
              "      border-left-color: var(--fill-color);\n",
              "      border-top-color: var(--fill-color);\n",
              "    }\n",
              "    30% {\n",
              "      border-color: transparent;\n",
              "      border-left-color: var(--fill-color);\n",
              "      border-top-color: var(--fill-color);\n",
              "      border-right-color: var(--fill-color);\n",
              "    }\n",
              "    40% {\n",
              "      border-color: transparent;\n",
              "      border-right-color: var(--fill-color);\n",
              "      border-top-color: var(--fill-color);\n",
              "    }\n",
              "    60% {\n",
              "      border-color: transparent;\n",
              "      border-right-color: var(--fill-color);\n",
              "    }\n",
              "    80% {\n",
              "      border-color: transparent;\n",
              "      border-right-color: var(--fill-color);\n",
              "      border-bottom-color: var(--fill-color);\n",
              "    }\n",
              "    90% {\n",
              "      border-color: transparent;\n",
              "      border-bottom-color: var(--fill-color);\n",
              "    }\n",
              "  }\n",
              "</style>\n",
              "\n",
              "  <script>\n",
              "    async function quickchart(key) {\n",
              "      const quickchartButtonEl =\n",
              "        document.querySelector('#' + key + ' button');\n",
              "      quickchartButtonEl.disabled = true;  // To prevent multiple clicks.\n",
              "      quickchartButtonEl.classList.add('colab-df-spinner');\n",
              "      try {\n",
              "        const charts = await google.colab.kernel.invokeFunction(\n",
              "            'suggestCharts', [key], {});\n",
              "      } catch (error) {\n",
              "        console.error('Error during call to suggestCharts:', error);\n",
              "      }\n",
              "      quickchartButtonEl.classList.remove('colab-df-spinner');\n",
              "      quickchartButtonEl.classList.add('colab-df-quickchart-complete');\n",
              "    }\n",
              "    (() => {\n",
              "      let quickchartButtonEl =\n",
              "        document.querySelector('#df-5a22d383-f723-436b-964d-bee53f513af4 button');\n",
              "      quickchartButtonEl.style.display =\n",
              "        google.colab.kernel.accessAllowed ? 'block' : 'none';\n",
              "    })();\n",
              "  </script>\n",
              "</div>\n",
              "\n",
              "    </div>\n",
              "  </div>\n"
            ],
            "application/vnd.google.colaboratory.intrinsic+json": {
              "type": "dataframe",
              "summary": "{\n  \"name\": \"data = df\",\n  \"rows\": 8,\n  \"fields\": [\n    {\n      \"column\": 0,\n      \"properties\": {\n        \"dtype\": \"number\",\n        \"std\": 247.6384238484212,\n        \"min\": 100.0,\n        \"max\": 799.0,\n        \"num_unique_values\": 7,\n        \"samples\": [\n          700.0,\n          449.5,\n          624.25\n        ],\n        \"semantic_type\": \"\",\n        \"description\": \"\"\n      }\n    },\n    {\n      \"column\": 1,\n      \"properties\": {\n        \"dtype\": \"number\",\n        \"std\": 247.48737341529164,\n        \"min\": 0.0,\n        \"max\": 700.0,\n        \"num_unique_values\": 2,\n        \"samples\": [\n          0.0,\n          700.0\n        ],\n        \"semantic_type\": \"\",\n        \"description\": \"\"\n      }\n    },\n    {\n      \"column\": 2,\n      \"properties\": {\n        \"dtype\": \"number\",\n        \"std\": 247.43512917638913,\n        \"min\": 0.0,\n        \"max\": 700.0,\n        \"num_unique_values\": 5,\n        \"samples\": [\n          0.0014285714285714286,\n          1.0\n        ],\n        \"semantic_type\": \"\",\n        \"description\": \"\"\n      }\n    },\n    {\n      \"column\": 3,\n      \"properties\": {\n        \"dtype\": \"number\",\n        \"std\": 247.48737341529164,\n        \"min\": 0.0,\n        \"max\": 700.0,\n        \"num_unique_values\": 2,\n        \"samples\": [\n          0.0,\n          700.0\n        ],\n        \"semantic_type\": \"\",\n        \"description\": \"\"\n      }\n    }\n  ]\n}"
            }
          },
          "metadata": {}
        }
      ]
    },
    {
      "cell_type": "code",
      "source": [
        "\n",
        "np.where( data[:,1:4] > 0)[0]\n"
      ],
      "metadata": {
        "id": "9iA9TNkZ3lGz",
        "outputId": "d51f1c97-7f14-40c7-8e8b-1851e6ded4c5",
        "colab": {
          "base_uri": "https://localhost:8080/"
        }
      },
      "execution_count": 201,
      "outputs": [
        {
          "output_type": "execute_result",
          "data": {
            "text/plain": [
              "array([62])"
            ]
          },
          "metadata": {},
          "execution_count": 201
        }
      ]
    },
    {
      "cell_type": "code",
      "source": [
        "\n",
        " X_test[[ind]]"
      ],
      "metadata": {
        "id": "CjE9UYPZ51SD",
        "outputId": "9485bd95-9c7b-45dc-ae78-b946c6ba0615",
        "colab": {
          "base_uri": "https://localhost:8080/"
        }
      },
      "execution_count": 170,
      "outputs": [
        {
          "output_type": "execute_result",
          "data": {
            "text/plain": [
              "array([[[[[0, 1, 0]]],\n",
              "\n",
              "\n",
              "        [[[0, 0, 0]]],\n",
              "\n",
              "\n",
              "        [[[0, 0, 0]]]]])"
            ]
          },
          "metadata": {},
          "execution_count": 170
        }
      ]
    },
    {
      "cell_type": "code",
      "source": [
        "X_test[ind][0]"
      ],
      "metadata": {
        "id": "vufWUZ3V5kb1",
        "outputId": "a4ea1f25-c4eb-447c-9175-8f7b7d623ffb",
        "colab": {
          "base_uri": "https://localhost:8080/"
        }
      },
      "execution_count": 129,
      "outputs": [
        {
          "output_type": "execute_result",
          "data": {
            "text/plain": [
              "1"
            ]
          },
          "metadata": {},
          "execution_count": 129
        }
      ]
    },
    {
      "cell_type": "code",
      "source": [
        "X_test[100]"
      ],
      "metadata": {
        "id": "l4yLyFYN3yIX",
        "outputId": "4f61cd1e-450e-4641-f24d-77ec21f2d34b",
        "colab": {
          "base_uri": "https://localhost:8080/"
        }
      },
      "execution_count": 114,
      "outputs": [
        {
          "output_type": "execute_result",
          "data": {
            "text/plain": [
              "array([[0, 1, 0]])"
            ]
          },
          "metadata": {},
          "execution_count": 114
        }
      ]
    },
    {
      "cell_type": "code",
      "source": [
        "data[50:70],X_test[0:10]"
      ],
      "metadata": {
        "id": "sc4TkuxvT0TH",
        "outputId": "ee96e694-70b1-417d-9eee-84d52a93a108",
        "colab": {
          "base_uri": "https://localhost:8080/"
        }
      },
      "execution_count": 110,
      "outputs": [
        {
          "output_type": "execute_result",
          "data": {
            "text/plain": [
              "(array([[150,   0,   0,   0],\n",
              "        [151,   0,   0,   0],\n",
              "        [152,   0,   0,   0],\n",
              "        [153,   0,   0,   0],\n",
              "        [154,   0,   0,   0],\n",
              "        [155,   0,   0,   0],\n",
              "        [156,   0,   0,   0],\n",
              "        [157,   0,   0,   0],\n",
              "        [158,   0,   0,   0],\n",
              "        [159,   0,   0,   0],\n",
              "        [160,   0,   0,   0],\n",
              "        [161,   0,   0,   0],\n",
              "        [162,   0,  26,   0],\n",
              "        [163,   0,   0,   0],\n",
              "        [164,   0,   0,   0],\n",
              "        [165,   0,   0,   0],\n",
              "        [166,   0,   0,   0],\n",
              "        [167,   0,   0,   0],\n",
              "        [168,   0,   0,   0],\n",
              "        [169,   0,   0,   0]]),\n",
              " array([[[0, 0, 0]],\n",
              " \n",
              "        [[0, 0, 0]],\n",
              " \n",
              "        [[0, 0, 0]],\n",
              " \n",
              "        [[0, 0, 0]],\n",
              " \n",
              "        [[0, 0, 0]],\n",
              " \n",
              "        [[0, 0, 0]],\n",
              " \n",
              "        [[0, 0, 0]],\n",
              " \n",
              "        [[0, 0, 0]],\n",
              " \n",
              "        [[0, 0, 0]],\n",
              " \n",
              "        [[0, 0, 0]]]))"
            ]
          },
          "metadata": {},
          "execution_count": 110
        }
      ]
    },
    {
      "cell_type": "code",
      "source": [
        "# Example usage:\n",
        "# Assuming your data is in a NumPy array called 'data' with shape (num_samples, 31)\n",
        "# where the first column is time and the rest are the 30 features\n",
        "\n",
        "\n",
        "# 1. Data Preprocessing\n",
        "scaler = StandardScaler()\n",
        "trfdata=data\n",
        "trfdata[:, 1:] = scaler.fit_transform(data[:, 1:])  # Standardize features\n",
        "window_size = 10 #10000  # Set window size to 10,000\n",
        "stride = 1     # 1000  # Adjust stride as needed\n",
        "X = create_dataset(trfdata, window_size, stride)\n",
        "\n",
        "# 2. Train-Test Split (adjust split ratio as needed)\n",
        "train_size = int(len(X) * 0.8)\n",
        "X_train, X_test = X[:train_size], X[train_size:]\n",
        "\n",
        "# 3. Model Training\n",
        "model = train_model(X_train)\n",
        "\n"
      ],
      "metadata": {
        "colab": {
          "base_uri": "https://localhost:8080/"
        },
        "id": "L7C7SBDKOiN1",
        "outputId": "e2a2ec95-e0ab-4d57-99ec-17409827bd06"
      },
      "execution_count": 225,
      "outputs": [
        {
          "output_type": "stream",
          "name": "stdout",
          "text": [
            "Epoch 1/100\n"
          ]
        },
        {
          "output_type": "stream",
          "name": "stderr",
          "text": [
            "/usr/local/lib/python3.11/dist-packages/keras/src/layers/convolutional/base_conv.py:107: UserWarning: Do not pass an `input_shape`/`input_dim` argument to a layer. When using Sequential models, prefer using an `Input(shape)` object as the first layer in the model instead.\n",
            "  super().__init__(activity_regularizer=activity_regularizer, **kwargs)\n"
          ]
        },
        {
          "output_type": "stream",
          "name": "stdout",
          "text": [
            "\u001b[1m14/14\u001b[0m \u001b[32m━━━━━━━━━━━━━━━━━━━━\u001b[0m\u001b[37m\u001b[0m \u001b[1m4s\u001b[0m 42ms/step - loss: 0.3244 - val_loss: 4.0720e-04\n",
            "Epoch 2/100\n",
            "\u001b[1m14/14\u001b[0m \u001b[32m━━━━━━━━━━━━━━━━━━━━\u001b[0m\u001b[37m\u001b[0m \u001b[1m0s\u001b[0m 14ms/step - loss: 0.5388 - val_loss: 0.0010\n",
            "Epoch 3/100\n",
            "\u001b[1m14/14\u001b[0m \u001b[32m━━━━━━━━━━━━━━━━━━━━\u001b[0m\u001b[37m\u001b[0m \u001b[1m0s\u001b[0m 11ms/step - loss: 0.2078 - val_loss: 1.2183e-04\n",
            "Epoch 4/100\n",
            "\u001b[1m14/14\u001b[0m \u001b[32m━━━━━━━━━━━━━━━━━━━━\u001b[0m\u001b[37m\u001b[0m \u001b[1m0s\u001b[0m 12ms/step - loss: 0.2475 - val_loss: 4.6066e-04\n",
            "Epoch 5/100\n",
            "\u001b[1m14/14\u001b[0m \u001b[32m━━━━━━━━━━━━━━━━━━━━\u001b[0m\u001b[37m\u001b[0m \u001b[1m0s\u001b[0m 12ms/step - loss: 0.0470 - val_loss: 3.6208e-04\n",
            "Epoch 6/100\n",
            "\u001b[1m14/14\u001b[0m \u001b[32m━━━━━━━━━━━━━━━━━━━━\u001b[0m\u001b[37m\u001b[0m \u001b[1m0s\u001b[0m 13ms/step - loss: 0.0561 - val_loss: 2.3973e-04\n",
            "Epoch 7/100\n",
            "\u001b[1m14/14\u001b[0m \u001b[32m━━━━━━━━━━━━━━━━━━━━\u001b[0m\u001b[37m\u001b[0m \u001b[1m0s\u001b[0m 13ms/step - loss: 0.0211 - val_loss: 3.4393e-04\n",
            "Epoch 8/100\n",
            "\u001b[1m14/14\u001b[0m \u001b[32m━━━━━━━━━━━━━━━━━━━━\u001b[0m\u001b[37m\u001b[0m \u001b[1m0s\u001b[0m 12ms/step - loss: 0.0638 - val_loss: 1.0342e-04\n",
            "Epoch 9/100\n",
            "\u001b[1m14/14\u001b[0m \u001b[32m━━━━━━━━━━━━━━━━━━━━\u001b[0m\u001b[37m\u001b[0m \u001b[1m0s\u001b[0m 15ms/step - loss: 0.0725 - val_loss: 8.0375e-05\n",
            "Epoch 10/100\n",
            "\u001b[1m14/14\u001b[0m \u001b[32m━━━━━━━━━━━━━━━━━━━━\u001b[0m\u001b[37m\u001b[0m \u001b[1m0s\u001b[0m 12ms/step - loss: 0.0124 - val_loss: 6.9530e-05\n",
            "Epoch 11/100\n",
            "\u001b[1m14/14\u001b[0m \u001b[32m━━━━━━━━━━━━━━━━━━━━\u001b[0m\u001b[37m\u001b[0m \u001b[1m0s\u001b[0m 14ms/step - loss: 0.0225 - val_loss: 1.0136e-04\n",
            "Epoch 12/100\n",
            "\u001b[1m14/14\u001b[0m \u001b[32m━━━━━━━━━━━━━━━━━━━━\u001b[0m\u001b[37m\u001b[0m \u001b[1m0s\u001b[0m 11ms/step - loss: 0.0368 - val_loss: 4.9118e-04\n",
            "Epoch 13/100\n",
            "\u001b[1m14/14\u001b[0m \u001b[32m━━━━━━━━━━━━━━━━━━━━\u001b[0m\u001b[37m\u001b[0m \u001b[1m0s\u001b[0m 12ms/step - loss: 0.0141 - val_loss: 1.3481e-04\n",
            "Epoch 14/100\n",
            "\u001b[1m14/14\u001b[0m \u001b[32m━━━━━━━━━━━━━━━━━━━━\u001b[0m\u001b[37m\u001b[0m \u001b[1m0s\u001b[0m 11ms/step - loss: 0.0277 - val_loss: 1.9366e-04\n",
            "Epoch 15/100\n",
            "\u001b[1m14/14\u001b[0m \u001b[32m━━━━━━━━━━━━━━━━━━━━\u001b[0m\u001b[37m\u001b[0m \u001b[1m0s\u001b[0m 14ms/step - loss: 0.0441 - val_loss: 5.4059e-04\n",
            "Epoch 16/100\n",
            "\u001b[1m14/14\u001b[0m \u001b[32m━━━━━━━━━━━━━━━━━━━━\u001b[0m\u001b[37m\u001b[0m \u001b[1m0s\u001b[0m 12ms/step - loss: 0.0260 - val_loss: 2.6788e-04\n",
            "Epoch 17/100\n",
            "\u001b[1m14/14\u001b[0m \u001b[32m━━━━━━━━━━━━━━━━━━━━\u001b[0m\u001b[37m\u001b[0m \u001b[1m0s\u001b[0m 23ms/step - loss: 0.0588 - val_loss: 4.7494e-05\n",
            "Epoch 18/100\n",
            "\u001b[1m14/14\u001b[0m \u001b[32m━━━━━━━━━━━━━━━━━━━━\u001b[0m\u001b[37m\u001b[0m \u001b[1m1s\u001b[0m 22ms/step - loss: 0.0264 - val_loss: 7.5622e-05\n",
            "Epoch 19/100\n",
            "\u001b[1m14/14\u001b[0m \u001b[32m━━━━━━━━━━━━━━━━━━━━\u001b[0m\u001b[37m\u001b[0m \u001b[1m1s\u001b[0m 22ms/step - loss: 0.0187 - val_loss: 2.4200e-05\n",
            "Epoch 20/100\n",
            "\u001b[1m14/14\u001b[0m \u001b[32m━━━━━━━━━━━━━━━━━━━━\u001b[0m\u001b[37m\u001b[0m \u001b[1m0s\u001b[0m 21ms/step - loss: 0.0095 - val_loss: 1.1936e-05\n",
            "Epoch 21/100\n",
            "\u001b[1m14/14\u001b[0m \u001b[32m━━━━━━━━━━━━━━━━━━━━\u001b[0m\u001b[37m\u001b[0m \u001b[1m0s\u001b[0m 11ms/step - loss: 0.0038 - val_loss: 9.9730e-06\n",
            "Epoch 22/100\n",
            "\u001b[1m14/14\u001b[0m \u001b[32m━━━━━━━━━━━━━━━━━━━━\u001b[0m\u001b[37m\u001b[0m \u001b[1m0s\u001b[0m 12ms/step - loss: 0.0032 - val_loss: 6.7615e-06\n",
            "Epoch 23/100\n",
            "\u001b[1m14/14\u001b[0m \u001b[32m━━━━━━━━━━━━━━━━━━━━\u001b[0m\u001b[37m\u001b[0m \u001b[1m0s\u001b[0m 12ms/step - loss: 0.0042 - val_loss: 6.2262e-06\n",
            "Epoch 24/100\n",
            "\u001b[1m14/14\u001b[0m \u001b[32m━━━━━━━━━━━━━━━━━━━━\u001b[0m\u001b[37m\u001b[0m \u001b[1m0s\u001b[0m 11ms/step - loss: 0.0039 - val_loss: 6.6058e-06\n",
            "Epoch 25/100\n",
            "\u001b[1m14/14\u001b[0m \u001b[32m━━━━━━━━━━━━━━━━━━━━\u001b[0m\u001b[37m\u001b[0m \u001b[1m0s\u001b[0m 11ms/step - loss: 0.0022 - val_loss: 5.1350e-06\n",
            "Epoch 26/100\n",
            "\u001b[1m14/14\u001b[0m \u001b[32m━━━━━━━━━━━━━━━━━━━━\u001b[0m\u001b[37m\u001b[0m \u001b[1m0s\u001b[0m 11ms/step - loss: 0.0020 - val_loss: 5.1047e-06\n",
            "Epoch 27/100\n",
            "\u001b[1m14/14\u001b[0m \u001b[32m━━━━━━━━━━━━━━━━━━━━\u001b[0m\u001b[37m\u001b[0m \u001b[1m0s\u001b[0m 11ms/step - loss: 0.0014 - val_loss: 4.9578e-06\n",
            "Epoch 28/100\n",
            "\u001b[1m14/14\u001b[0m \u001b[32m━━━━━━━━━━━━━━━━━━━━\u001b[0m\u001b[37m\u001b[0m \u001b[1m0s\u001b[0m 11ms/step - loss: 9.4691e-04 - val_loss: 4.4547e-06\n",
            "Epoch 29/100\n",
            "\u001b[1m14/14\u001b[0m \u001b[32m━━━━━━━━━━━━━━━━━━━━\u001b[0m\u001b[37m\u001b[0m \u001b[1m0s\u001b[0m 12ms/step - loss: 0.0019 - val_loss: 4.3922e-06\n",
            "Epoch 30/100\n",
            "\u001b[1m14/14\u001b[0m \u001b[32m━━━━━━━━━━━━━━━━━━━━\u001b[0m\u001b[37m\u001b[0m \u001b[1m0s\u001b[0m 11ms/step - loss: 7.2330e-04 - val_loss: 4.1347e-06\n",
            "Epoch 31/100\n",
            "\u001b[1m14/14\u001b[0m \u001b[32m━━━━━━━━━━━━━━━━━━━━\u001b[0m\u001b[37m\u001b[0m \u001b[1m0s\u001b[0m 14ms/step - loss: 9.8035e-04 - val_loss: 6.7417e-06\n",
            "Epoch 32/100\n",
            "\u001b[1m14/14\u001b[0m \u001b[32m━━━━━━━━━━━━━━━━━━━━\u001b[0m\u001b[37m\u001b[0m \u001b[1m0s\u001b[0m 11ms/step - loss: 7.0254e-04 - val_loss: 4.9491e-06\n",
            "Epoch 33/100\n",
            "\u001b[1m14/14\u001b[0m \u001b[32m━━━━━━━━━━━━━━━━━━━━\u001b[0m\u001b[37m\u001b[0m \u001b[1m0s\u001b[0m 11ms/step - loss: 6.4056e-04 - val_loss: 3.9037e-06\n",
            "Epoch 34/100\n",
            "\u001b[1m14/14\u001b[0m \u001b[32m━━━━━━━━━━━━━━━━━━━━\u001b[0m\u001b[37m\u001b[0m \u001b[1m0s\u001b[0m 11ms/step - loss: 0.0010 - val_loss: 8.3667e-06\n",
            "Epoch 35/100\n",
            "\u001b[1m14/14\u001b[0m \u001b[32m━━━━━━━━━━━━━━━━━━━━\u001b[0m\u001b[37m\u001b[0m \u001b[1m0s\u001b[0m 11ms/step - loss: 0.0011 - val_loss: 9.0182e-06\n",
            "Epoch 36/100\n",
            "\u001b[1m14/14\u001b[0m \u001b[32m━━━━━━━━━━━━━━━━━━━━\u001b[0m\u001b[37m\u001b[0m \u001b[1m0s\u001b[0m 12ms/step - loss: 9.6333e-04 - val_loss: 3.4178e-06\n",
            "Epoch 37/100\n",
            "\u001b[1m14/14\u001b[0m \u001b[32m━━━━━━━━━━━━━━━━━━━━\u001b[0m\u001b[37m\u001b[0m \u001b[1m0s\u001b[0m 12ms/step - loss: 3.7936e-04 - val_loss: 2.9648e-06\n",
            "Epoch 38/100\n",
            "\u001b[1m14/14\u001b[0m \u001b[32m━━━━━━━━━━━━━━━━━━━━\u001b[0m\u001b[37m\u001b[0m \u001b[1m0s\u001b[0m 11ms/step - loss: 5.4541e-04 - val_loss: 2.5627e-06\n",
            "Epoch 39/100\n",
            "\u001b[1m14/14\u001b[0m \u001b[32m━━━━━━━━━━━━━━━━━━━━\u001b[0m\u001b[37m\u001b[0m \u001b[1m0s\u001b[0m 12ms/step - loss: 5.2147e-04 - val_loss: 4.3234e-06\n",
            "Epoch 40/100\n",
            "\u001b[1m14/14\u001b[0m \u001b[32m━━━━━━━━━━━━━━━━━━━━\u001b[0m\u001b[37m\u001b[0m \u001b[1m0s\u001b[0m 11ms/step - loss: 7.8737e-04 - val_loss: 2.9212e-06\n",
            "Epoch 41/100\n",
            "\u001b[1m14/14\u001b[0m \u001b[32m━━━━━━━━━━━━━━━━━━━━\u001b[0m\u001b[37m\u001b[0m \u001b[1m0s\u001b[0m 11ms/step - loss: 4.8025e-04 - val_loss: 2.1385e-06\n",
            "Epoch 42/100\n",
            "\u001b[1m14/14\u001b[0m \u001b[32m━━━━━━━━━━━━━━━━━━━━\u001b[0m\u001b[37m\u001b[0m \u001b[1m0s\u001b[0m 11ms/step - loss: 4.1197e-04 - val_loss: 1.9143e-06\n",
            "Epoch 43/100\n",
            "\u001b[1m14/14\u001b[0m \u001b[32m━━━━━━━━━━━━━━━━━━━━\u001b[0m\u001b[37m\u001b[0m \u001b[1m0s\u001b[0m 11ms/step - loss: 3.9428e-04 - val_loss: 1.5998e-06\n",
            "Epoch 44/100\n",
            "\u001b[1m14/14\u001b[0m \u001b[32m━━━━━━━━━━━━━━━━━━━━\u001b[0m\u001b[37m\u001b[0m \u001b[1m0s\u001b[0m 13ms/step - loss: 2.3019e-04 - val_loss: 1.5832e-06\n",
            "Epoch 45/100\n",
            "\u001b[1m14/14\u001b[0m \u001b[32m━━━━━━━━━━━━━━━━━━━━\u001b[0m\u001b[37m\u001b[0m \u001b[1m0s\u001b[0m 12ms/step - loss: 3.9906e-04 - val_loss: 1.6223e-06\n",
            "Epoch 46/100\n",
            "\u001b[1m14/14\u001b[0m \u001b[32m━━━━━━━━━━━━━━━━━━━━\u001b[0m\u001b[37m\u001b[0m \u001b[1m0s\u001b[0m 13ms/step - loss: 4.2725e-04 - val_loss: 1.4823e-06\n",
            "Epoch 47/100\n",
            "\u001b[1m14/14\u001b[0m \u001b[32m━━━━━━━━━━━━━━━━━━━━\u001b[0m\u001b[37m\u001b[0m \u001b[1m0s\u001b[0m 12ms/step - loss: 2.1231e-04 - val_loss: 2.0224e-06\n",
            "Epoch 48/100\n",
            "\u001b[1m14/14\u001b[0m \u001b[32m━━━━━━━━━━━━━━━━━━━━\u001b[0m\u001b[37m\u001b[0m \u001b[1m0s\u001b[0m 12ms/step - loss: 6.2731e-04 - val_loss: 1.3930e-06\n",
            "Epoch 49/100\n",
            "\u001b[1m14/14\u001b[0m \u001b[32m━━━━━━━━━━━━━━━━━━━━\u001b[0m\u001b[37m\u001b[0m \u001b[1m0s\u001b[0m 11ms/step - loss: 1.5468e-04 - val_loss: 1.8585e-06\n",
            "Epoch 50/100\n",
            "\u001b[1m14/14\u001b[0m \u001b[32m━━━━━━━━━━━━━━━━━━━━\u001b[0m\u001b[37m\u001b[0m \u001b[1m0s\u001b[0m 11ms/step - loss: 2.5497e-04 - val_loss: 1.6337e-06\n",
            "Epoch 51/100\n",
            "\u001b[1m14/14\u001b[0m \u001b[32m━━━━━━━━━━━━━━━━━━━━\u001b[0m\u001b[37m\u001b[0m \u001b[1m0s\u001b[0m 12ms/step - loss: 2.4182e-04 - val_loss: 1.6280e-06\n",
            "Epoch 52/100\n",
            "\u001b[1m14/14\u001b[0m \u001b[32m━━━━━━━━━━━━━━━━━━━━\u001b[0m\u001b[37m\u001b[0m \u001b[1m0s\u001b[0m 11ms/step - loss: 2.0310e-04 - val_loss: 1.4589e-06\n",
            "Epoch 53/100\n",
            "\u001b[1m14/14\u001b[0m \u001b[32m━━━━━━━━━━━━━━━━━━━━\u001b[0m\u001b[37m\u001b[0m \u001b[1m0s\u001b[0m 13ms/step - loss: 1.8454e-04 - val_loss: 1.1855e-06\n",
            "Epoch 54/100\n",
            "\u001b[1m14/14\u001b[0m \u001b[32m━━━━━━━━━━━━━━━━━━━━\u001b[0m\u001b[37m\u001b[0m \u001b[1m0s\u001b[0m 11ms/step - loss: 2.3513e-04 - val_loss: 1.2129e-06\n",
            "Epoch 55/100\n",
            "\u001b[1m14/14\u001b[0m \u001b[32m━━━━━━━━━━━━━━━━━━━━\u001b[0m\u001b[37m\u001b[0m \u001b[1m0s\u001b[0m 11ms/step - loss: 2.1666e-04 - val_loss: 1.6435e-06\n",
            "Epoch 56/100\n",
            "\u001b[1m14/14\u001b[0m \u001b[32m━━━━━━━━━━━━━━━━━━━━\u001b[0m\u001b[37m\u001b[0m \u001b[1m0s\u001b[0m 11ms/step - loss: 2.3811e-04 - val_loss: 1.4919e-06\n",
            "Epoch 57/100\n",
            "\u001b[1m14/14\u001b[0m \u001b[32m━━━━━━━━━━━━━━━━━━━━\u001b[0m\u001b[37m\u001b[0m \u001b[1m0s\u001b[0m 11ms/step - loss: 1.5094e-04 - val_loss: 1.1160e-06\n",
            "Epoch 58/100\n",
            "\u001b[1m14/14\u001b[0m \u001b[32m━━━━━━━━━━━━━━━━━━━━\u001b[0m\u001b[37m\u001b[0m \u001b[1m0s\u001b[0m 13ms/step - loss: 2.2121e-04 - val_loss: 4.1236e-06\n",
            "Epoch 59/100\n",
            "\u001b[1m14/14\u001b[0m \u001b[32m━━━━━━━━━━━━━━━━━━━━\u001b[0m\u001b[37m\u001b[0m \u001b[1m0s\u001b[0m 11ms/step - loss: 9.5619e-04 - val_loss: 4.5371e-06\n",
            "Epoch 60/100\n",
            "\u001b[1m14/14\u001b[0m \u001b[32m━━━━━━━━━━━━━━━━━━━━\u001b[0m\u001b[37m\u001b[0m \u001b[1m0s\u001b[0m 11ms/step - loss: 9.6410e-04 - val_loss: 3.9762e-06\n",
            "Epoch 61/100\n",
            "\u001b[1m14/14\u001b[0m \u001b[32m━━━━━━━━━━━━━━━━━━━━\u001b[0m\u001b[37m\u001b[0m \u001b[1m0s\u001b[0m 13ms/step - loss: 2.5018e-04 - val_loss: 1.9430e-06\n",
            "Epoch 62/100\n",
            "\u001b[1m14/14\u001b[0m \u001b[32m━━━━━━━━━━━━━━━━━━━━\u001b[0m\u001b[37m\u001b[0m \u001b[1m0s\u001b[0m 20ms/step - loss: 1.1768e-04 - val_loss: 1.1249e-06\n",
            "Epoch 63/100\n",
            "\u001b[1m14/14\u001b[0m \u001b[32m━━━━━━━━━━━━━━━━━━━━\u001b[0m\u001b[37m\u001b[0m \u001b[1m0s\u001b[0m 19ms/step - loss: 1.0522e-04 - val_loss: 1.4592e-06\n",
            "Epoch 64/100\n",
            "\u001b[1m14/14\u001b[0m \u001b[32m━━━━━━━━━━━━━━━━━━━━\u001b[0m\u001b[37m\u001b[0m \u001b[1m0s\u001b[0m 21ms/step - loss: 1.6297e-04 - val_loss: 1.2350e-06\n",
            "Epoch 65/100\n",
            "\u001b[1m14/14\u001b[0m \u001b[32m━━━━━━━━━━━━━━━━━━━━\u001b[0m\u001b[37m\u001b[0m \u001b[1m1s\u001b[0m 20ms/step - loss: 1.3943e-04 - val_loss: 1.3013e-06\n",
            "Epoch 66/100\n",
            "\u001b[1m14/14\u001b[0m \u001b[32m━━━━━━━━━━━━━━━━━━━━\u001b[0m\u001b[37m\u001b[0m \u001b[1m1s\u001b[0m 11ms/step - loss: 1.0973e-04 - val_loss: 1.5972e-06\n",
            "Epoch 67/100\n",
            "\u001b[1m14/14\u001b[0m \u001b[32m━━━━━━━━━━━━━━━━━━━━\u001b[0m\u001b[37m\u001b[0m \u001b[1m0s\u001b[0m 10ms/step - loss: 9.3550e-05 - val_loss: 8.8710e-07\n",
            "Epoch 68/100\n",
            "\u001b[1m14/14\u001b[0m \u001b[32m━━━━━━━━━━━━━━━━━━━━\u001b[0m\u001b[37m\u001b[0m \u001b[1m0s\u001b[0m 11ms/step - loss: 1.1716e-04 - val_loss: 8.3011e-07\n",
            "Epoch 69/100\n",
            "\u001b[1m14/14\u001b[0m \u001b[32m━━━━━━━━━━━━━━━━━━━━\u001b[0m\u001b[37m\u001b[0m \u001b[1m0s\u001b[0m 12ms/step - loss: 1.2699e-04 - val_loss: 1.5512e-06\n",
            "Epoch 70/100\n",
            "\u001b[1m14/14\u001b[0m \u001b[32m━━━━━━━━━━━━━━━━━━━━\u001b[0m\u001b[37m\u001b[0m \u001b[1m0s\u001b[0m 13ms/step - loss: 1.6302e-04 - val_loss: 2.2294e-06\n",
            "Epoch 71/100\n",
            "\u001b[1m14/14\u001b[0m \u001b[32m━━━━━━━━━━━━━━━━━━━━\u001b[0m\u001b[37m\u001b[0m \u001b[1m0s\u001b[0m 13ms/step - loss: 1.1659e-04 - val_loss: 1.0428e-06\n",
            "Epoch 72/100\n",
            "\u001b[1m14/14\u001b[0m \u001b[32m━━━━━━━━━━━━━━━━━━━━\u001b[0m\u001b[37m\u001b[0m \u001b[1m0s\u001b[0m 11ms/step - loss: 8.8289e-05 - val_loss: 8.7501e-07\n",
            "Epoch 73/100\n",
            "\u001b[1m14/14\u001b[0m \u001b[32m━━━━━━━━━━━━━━━━━━━━\u001b[0m\u001b[37m\u001b[0m \u001b[1m0s\u001b[0m 12ms/step - loss: 1.0475e-04 - val_loss: 1.2541e-06\n",
            "Epoch 74/100\n",
            "\u001b[1m14/14\u001b[0m \u001b[32m━━━━━━━━━━━━━━━━━━━━\u001b[0m\u001b[37m\u001b[0m \u001b[1m0s\u001b[0m 11ms/step - loss: 8.4905e-05 - val_loss: 1.4665e-06\n",
            "Epoch 75/100\n",
            "\u001b[1m14/14\u001b[0m \u001b[32m━━━━━━━━━━━━━━━━━━━━\u001b[0m\u001b[37m\u001b[0m \u001b[1m0s\u001b[0m 11ms/step - loss: 1.8949e-04 - val_loss: 1.8435e-06\n",
            "Epoch 76/100\n",
            "\u001b[1m14/14\u001b[0m \u001b[32m━━━━━━━━━━━━━━━━━━━━\u001b[0m\u001b[37m\u001b[0m \u001b[1m0s\u001b[0m 13ms/step - loss: 1.9314e-04 - val_loss: 2.0879e-06\n",
            "Epoch 77/100\n",
            "\u001b[1m14/14\u001b[0m \u001b[32m━━━━━━━━━━━━━━━━━━━━\u001b[0m\u001b[37m\u001b[0m \u001b[1m0s\u001b[0m 13ms/step - loss: 1.1405e-04 - val_loss: 2.8098e-06\n",
            "Epoch 78/100\n",
            "\u001b[1m14/14\u001b[0m \u001b[32m━━━━━━━━━━━━━━━━━━━━\u001b[0m\u001b[37m\u001b[0m \u001b[1m0s\u001b[0m 11ms/step - loss: 9.4438e-05 - val_loss: 5.7027e-07\n",
            "Epoch 79/100\n",
            "\u001b[1m14/14\u001b[0m \u001b[32m━━━━━━━━━━━━━━━━━━━━\u001b[0m\u001b[37m\u001b[0m \u001b[1m0s\u001b[0m 11ms/step - loss: 1.1075e-04 - val_loss: 9.0252e-07\n",
            "Epoch 80/100\n",
            "\u001b[1m14/14\u001b[0m \u001b[32m━━━━━━━━━━━━━━━━━━━━\u001b[0m\u001b[37m\u001b[0m \u001b[1m0s\u001b[0m 11ms/step - loss: 1.2311e-04 - val_loss: 6.0536e-07\n",
            "Epoch 81/100\n",
            "\u001b[1m14/14\u001b[0m \u001b[32m━━━━━━━━━━━━━━━━━━━━\u001b[0m\u001b[37m\u001b[0m \u001b[1m0s\u001b[0m 12ms/step - loss: 8.3408e-05 - val_loss: 7.2224e-07\n",
            "Epoch 82/100\n",
            "\u001b[1m14/14\u001b[0m \u001b[32m━━━━━━━━━━━━━━━━━━━━\u001b[0m\u001b[37m\u001b[0m \u001b[1m0s\u001b[0m 11ms/step - loss: 4.1094e-05 - val_loss: 1.7307e-06\n",
            "Epoch 83/100\n",
            "\u001b[1m14/14\u001b[0m \u001b[32m━━━━━━━━━━━━━━━━━━━━\u001b[0m\u001b[37m\u001b[0m \u001b[1m0s\u001b[0m 11ms/step - loss: 8.4442e-05 - val_loss: 1.7544e-06\n",
            "Epoch 84/100\n",
            "\u001b[1m14/14\u001b[0m \u001b[32m━━━━━━━━━━━━━━━━━━━━\u001b[0m\u001b[37m\u001b[0m \u001b[1m0s\u001b[0m 11ms/step - loss: 1.2404e-04 - val_loss: 7.1554e-07\n",
            "Epoch 85/100\n",
            "\u001b[1m14/14\u001b[0m \u001b[32m━━━━━━━━━━━━━━━━━━━━\u001b[0m\u001b[37m\u001b[0m \u001b[1m0s\u001b[0m 12ms/step - loss: 8.4633e-05 - val_loss: 9.3352e-07\n",
            "Epoch 86/100\n",
            "\u001b[1m14/14\u001b[0m \u001b[32m━━━━━━━━━━━━━━━━━━━━\u001b[0m\u001b[37m\u001b[0m \u001b[1m0s\u001b[0m 11ms/step - loss: 6.1860e-05 - val_loss: 8.1281e-07\n",
            "Epoch 87/100\n",
            "\u001b[1m14/14\u001b[0m \u001b[32m━━━━━━━━━━━━━━━━━━━━\u001b[0m\u001b[37m\u001b[0m \u001b[1m0s\u001b[0m 11ms/step - loss: 5.2462e-05 - val_loss: 6.7178e-07\n",
            "Epoch 88/100\n",
            "\u001b[1m14/14\u001b[0m \u001b[32m━━━━━━━━━━━━━━━━━━━━\u001b[0m\u001b[37m\u001b[0m \u001b[1m0s\u001b[0m 11ms/step - loss: 5.1212e-05 - val_loss: 1.0871e-06\n"
          ]
        }
      ]
    },
    {
      "cell_type": "code",
      "source": [
        "np.where(X_test>0)"
      ],
      "metadata": {
        "colab": {
          "base_uri": "https://localhost:8080/"
        },
        "id": "CeEwcx74P1WW",
        "outputId": "51959884-e40c-4b11-f712-0d0bd2b0f107"
      },
      "execution_count": 207,
      "outputs": [
        {
          "output_type": "execute_result",
          "data": {
            "text/plain": [
              "(array([], dtype=int64), array([], dtype=int64), array([], dtype=int64))"
            ]
          },
          "metadata": {},
          "execution_count": 207
        }
      ]
    },
    {
      "cell_type": "code",
      "source": [
        "X_test[95:105][0]"
      ],
      "metadata": {
        "id": "pW1dQcCL2DQ3",
        "outputId": "bda79021-c6fd-463e-df8a-fa3086281545",
        "colab": {
          "base_uri": "https://localhost:8080/"
        }
      },
      "execution_count": 211,
      "outputs": [
        {
          "output_type": "execute_result",
          "data": {
            "text/plain": [
              "array([[0, 0, 0],\n",
              "       [2, 2, 2],\n",
              "       [0, 0, 0],\n",
              "       [0, 0, 0],\n",
              "       [0, 0, 0],\n",
              "       [0, 0, 0],\n",
              "       [0, 0, 0],\n",
              "       [0, 0, 0],\n",
              "       [0, 0, 0],\n",
              "       [0, 0, 0]])"
            ]
          },
          "metadata": {},
          "execution_count": 211
        }
      ]
    },
    {
      "cell_type": "code",
      "source": [
        "# 4. Anomaly Prediction\n",
        "threshold = 10  # Adjust threshold as needed\n",
        "\n",
        "predictions, anomaly_windows, anomaly_observations = predict_anomalies(model, X_test, threshold, stride)\n",
        "\n",
        "# Print the results\n",
        "print(\"Anomaly Windows:\", anomaly_windows)\n",
        "print(\"Anomaly Observations:\", anomaly_observations)\n",
        "print(\"Predictions:\", predictions)\n"
      ],
      "metadata": {
        "colab": {
          "base_uri": "https://localhost:8080/",
          "height": 245
        },
        "id": "fuQrRWCvO5Z-",
        "outputId": "a58e8ade-615e-4595-f46b-a17b9ea834ea"
      },
      "execution_count": 226,
      "outputs": [
        {
          "output_type": "stream",
          "name": "stdout",
          "text": [
            "\u001b[1m5/5\u001b[0m \u001b[32m━━━━━━━━━━━━━━━━━━━━\u001b[0m\u001b[37m\u001b[0m \u001b[1m1s\u001b[0m 62ms/step\n"
          ]
        },
        {
          "output_type": "error",
          "ename": "ValueError",
          "evalue": "not enough values to unpack (expected 3, got 2)",
          "traceback": [
            "\u001b[0;31m---------------------------------------------------------------------------\u001b[0m",
            "\u001b[0;31mValueError\u001b[0m                                Traceback (most recent call last)",
            "\u001b[0;32m<ipython-input-226-03d9ba52acbe>\u001b[0m in \u001b[0;36m<cell line: 0>\u001b[0;34m()\u001b[0m\n\u001b[1;32m      2\u001b[0m \u001b[0mthreshold\u001b[0m \u001b[0;34m=\u001b[0m \u001b[0;36m10\u001b[0m  \u001b[0;31m# Adjust threshold as needed\u001b[0m\u001b[0;34m\u001b[0m\u001b[0;34m\u001b[0m\u001b[0m\n\u001b[1;32m      3\u001b[0m \u001b[0;34m\u001b[0m\u001b[0m\n\u001b[0;32m----> 4\u001b[0;31m \u001b[0mpredictions\u001b[0m\u001b[0;34m,\u001b[0m \u001b[0manomaly_windows\u001b[0m\u001b[0;34m,\u001b[0m \u001b[0manomaly_observations\u001b[0m \u001b[0;34m=\u001b[0m \u001b[0mpredict_anomalies\u001b[0m\u001b[0;34m(\u001b[0m\u001b[0mmodel\u001b[0m\u001b[0;34m,\u001b[0m \u001b[0mX_test\u001b[0m\u001b[0;34m,\u001b[0m \u001b[0mthreshold\u001b[0m\u001b[0;34m,\u001b[0m \u001b[0mstride\u001b[0m\u001b[0;34m)\u001b[0m\u001b[0;34m\u001b[0m\u001b[0;34m\u001b[0m\u001b[0m\n\u001b[0m\u001b[1;32m      5\u001b[0m \u001b[0;34m\u001b[0m\u001b[0m\n\u001b[1;32m      6\u001b[0m \u001b[0;31m# Print the results\u001b[0m\u001b[0;34m\u001b[0m\u001b[0;34m\u001b[0m\u001b[0m\n",
            "\u001b[0;31mValueError\u001b[0m: not enough values to unpack (expected 3, got 2)"
          ]
        }
      ]
    },
    {
      "cell_type": "code",
      "source": [
        "X[[anomaly_observations]]"
      ],
      "metadata": {
        "id": "6c-7jmacZfMF",
        "outputId": "49842feb-29b7-4d36-bdb0-3072b7af78e2",
        "colab": {
          "base_uri": "https://localhost:8080/"
        }
      },
      "execution_count": 214,
      "outputs": [
        {
          "output_type": "execute_result",
          "data": {
            "text/plain": [
              "array([[[[0, 0, 0],\n",
              "         [0, 0, 0],\n",
              "         [0, 0, 0],\n",
              "         [0, 0, 0],\n",
              "         [0, 0, 0],\n",
              "         [0, 0, 0],\n",
              "         [0, 0, 0],\n",
              "         [0, 0, 0],\n",
              "         [0, 0, 0],\n",
              "         [0, 0, 0]],\n",
              "\n",
              "        [[0, 0, 0],\n",
              "         [0, 0, 0],\n",
              "         [0, 0, 0],\n",
              "         [0, 0, 0],\n",
              "         [0, 0, 0],\n",
              "         [0, 0, 0],\n",
              "         [0, 0, 0],\n",
              "         [0, 0, 0],\n",
              "         [0, 0, 0],\n",
              "         [0, 0, 0]],\n",
              "\n",
              "        [[0, 0, 0],\n",
              "         [0, 0, 0],\n",
              "         [0, 0, 0],\n",
              "         [0, 0, 0],\n",
              "         [0, 0, 0],\n",
              "         [0, 0, 0],\n",
              "         [0, 0, 0],\n",
              "         [0, 0, 0],\n",
              "         [0, 0, 0],\n",
              "         [0, 0, 0]],\n",
              "\n",
              "        [[0, 0, 0],\n",
              "         [0, 0, 0],\n",
              "         [0, 0, 0],\n",
              "         [0, 0, 0],\n",
              "         [0, 0, 0],\n",
              "         [0, 0, 0],\n",
              "         [0, 0, 0],\n",
              "         [0, 0, 0],\n",
              "         [0, 0, 0],\n",
              "         [0, 0, 0]],\n",
              "\n",
              "        [[0, 0, 0],\n",
              "         [0, 0, 0],\n",
              "         [0, 0, 0],\n",
              "         [0, 0, 0],\n",
              "         [0, 0, 0],\n",
              "         [0, 0, 0],\n",
              "         [0, 0, 0],\n",
              "         [0, 0, 0],\n",
              "         [0, 0, 0],\n",
              "         [0, 0, 0]],\n",
              "\n",
              "        [[0, 0, 0],\n",
              "         [0, 0, 0],\n",
              "         [0, 0, 0],\n",
              "         [0, 0, 0],\n",
              "         [0, 0, 0],\n",
              "         [0, 0, 0],\n",
              "         [0, 0, 0],\n",
              "         [0, 0, 0],\n",
              "         [0, 0, 0],\n",
              "         [0, 0, 0]],\n",
              "\n",
              "        [[0, 0, 0],\n",
              "         [0, 0, 0],\n",
              "         [0, 0, 0],\n",
              "         [0, 0, 0],\n",
              "         [0, 0, 0],\n",
              "         [0, 0, 0],\n",
              "         [0, 0, 0],\n",
              "         [0, 0, 0],\n",
              "         [0, 0, 0],\n",
              "         [0, 0, 0]],\n",
              "\n",
              "        [[0, 0, 0],\n",
              "         [0, 0, 0],\n",
              "         [0, 0, 0],\n",
              "         [0, 0, 0],\n",
              "         [0, 0, 0],\n",
              "         [0, 0, 0],\n",
              "         [0, 0, 0],\n",
              "         [0, 0, 0],\n",
              "         [0, 0, 0],\n",
              "         [0, 0, 0]],\n",
              "\n",
              "        [[0, 0, 0],\n",
              "         [0, 0, 0],\n",
              "         [0, 0, 0],\n",
              "         [0, 0, 0],\n",
              "         [0, 0, 0],\n",
              "         [0, 0, 0],\n",
              "         [0, 0, 0],\n",
              "         [0, 0, 0],\n",
              "         [0, 0, 0],\n",
              "         [0, 0, 0]],\n",
              "\n",
              "        [[0, 0, 0],\n",
              "         [0, 0, 0],\n",
              "         [0, 0, 0],\n",
              "         [0, 0, 0],\n",
              "         [0, 0, 0],\n",
              "         [0, 0, 0],\n",
              "         [0, 0, 0],\n",
              "         [0, 0, 0],\n",
              "         [0, 0, 0],\n",
              "         [0, 0, 0]],\n",
              "\n",
              "        [[0, 0, 0],\n",
              "         [0, 0, 0],\n",
              "         [0, 0, 0],\n",
              "         [0, 0, 0],\n",
              "         [0, 0, 0],\n",
              "         [0, 0, 0],\n",
              "         [0, 0, 0],\n",
              "         [0, 0, 0],\n",
              "         [0, 0, 0],\n",
              "         [0, 0, 0]],\n",
              "\n",
              "        [[0, 0, 0],\n",
              "         [0, 0, 0],\n",
              "         [0, 0, 0],\n",
              "         [0, 0, 0],\n",
              "         [0, 0, 0],\n",
              "         [0, 0, 0],\n",
              "         [0, 0, 0],\n",
              "         [0, 0, 0],\n",
              "         [0, 0, 0],\n",
              "         [0, 0, 0]],\n",
              "\n",
              "        [[0, 0, 0],\n",
              "         [0, 0, 0],\n",
              "         [0, 0, 0],\n",
              "         [0, 0, 0],\n",
              "         [0, 0, 0],\n",
              "         [0, 0, 0],\n",
              "         [0, 0, 0],\n",
              "         [0, 0, 0],\n",
              "         [0, 0, 0],\n",
              "         [0, 0, 0]],\n",
              "\n",
              "        [[0, 0, 0],\n",
              "         [0, 0, 0],\n",
              "         [0, 0, 0],\n",
              "         [0, 0, 0],\n",
              "         [0, 0, 0],\n",
              "         [0, 0, 0],\n",
              "         [0, 0, 0],\n",
              "         [0, 0, 0],\n",
              "         [0, 0, 0],\n",
              "         [0, 0, 0]],\n",
              "\n",
              "        [[0, 0, 0],\n",
              "         [0, 0, 0],\n",
              "         [0, 0, 0],\n",
              "         [0, 0, 0],\n",
              "         [0, 0, 0],\n",
              "         [0, 0, 0],\n",
              "         [0, 0, 0],\n",
              "         [0, 0, 0],\n",
              "         [0, 0, 0],\n",
              "         [0, 0, 0]],\n",
              "\n",
              "        [[0, 0, 0],\n",
              "         [0, 0, 0],\n",
              "         [0, 0, 0],\n",
              "         [0, 0, 0],\n",
              "         [0, 0, 0],\n",
              "         [0, 0, 0],\n",
              "         [0, 0, 0],\n",
              "         [0, 0, 0],\n",
              "         [0, 0, 0],\n",
              "         [0, 0, 0]],\n",
              "\n",
              "        [[0, 0, 0],\n",
              "         [0, 0, 0],\n",
              "         [0, 0, 0],\n",
              "         [0, 0, 0],\n",
              "         [0, 0, 0],\n",
              "         [0, 0, 0],\n",
              "         [0, 0, 0],\n",
              "         [0, 0, 0],\n",
              "         [0, 0, 0],\n",
              "         [0, 0, 0]]]])"
            ]
          },
          "metadata": {},
          "execution_count": 214
        }
      ]
    },
    {
      "cell_type": "code",
      "source": [
        "# 4. Anomaly Prediction\n",
        "threshold = 5  # Adjust threshold as needed\n",
        "\n",
        "anomaly_windows, anomaly_observations = predict_anomalies(model, X_train, threshold, stride)\n",
        "\n",
        "# Print the results\n",
        "print(\"Anomaly Windows:\", anomaly_windows)\n",
        "print(\"Anomaly Observations:\", anomaly_observations)"
      ],
      "metadata": {
        "id": "xMYUNf9GUiHg",
        "outputId": "6ad53e31-cb0d-47ba-b9b8-a94968486223",
        "colab": {
          "base_uri": "https://localhost:8080/"
        }
      },
      "execution_count": 74,
      "outputs": [
        {
          "output_type": "stream",
          "name": "stdout",
          "text": [
            "\u001b[1m9/9\u001b[0m \u001b[32m━━━━━━━━━━━━━━━━━━━━\u001b[0m\u001b[37m\u001b[0m \u001b[1m0s\u001b[0m 7ms/step \n",
            "Anomaly Windows: [27 28 29 30 31]\n",
            "Anomaly Observations: [54, 55, 56, 57, 58, 59, 60, 61, 62, 63, 56, 57, 58, 59, 60, 61, 62, 63, 64, 65, 58, 59, 60, 61, 62, 63, 64, 65, 66, 67, 60, 61, 62, 63, 64, 65, 66, 67, 68, 69, 62, 63, 64, 65, 66, 67, 68, 69, 70, 71]\n"
          ]
        }
      ]
    },
    {
      "cell_type": "code",
      "source": [
        " predictions = model.predict(X_test)"
      ],
      "metadata": {
        "id": "a9jOpxD2U7Bi",
        "outputId": "dc3ee1e7-2ab4-4ff7-86d2-9824241f1b77",
        "colab": {
          "base_uri": "https://localhost:8080/"
        }
      },
      "execution_count": 13,
      "outputs": [
        {
          "output_type": "stream",
          "name": "stdout",
          "text": [
            "\u001b[1m1/1\u001b[0m \u001b[32m━━━━━━━━━━━━━━━━━━━━\u001b[0m\u001b[37m\u001b[0m \u001b[1m0s\u001b[0m 37ms/step\n"
          ]
        }
      ]
    },
    {
      "cell_type": "code",
      "source": [
        "predictions, X_test"
      ],
      "metadata": {
        "id": "UuMrgsusU87n",
        "outputId": "fa9f4086-ffba-4b31-8c4c-db93f6aa71c6",
        "colab": {
          "base_uri": "https://localhost:8080/"
        }
      },
      "execution_count": 75,
      "outputs": [
        {
          "output_type": "execute_result",
          "data": {
            "text/plain": [
              "(array([[[ 0.07872578, -0.00353326, -0.00368248],\n",
              "         [ 0.11749697, -0.00121287, -0.00320818],\n",
              "         [ 0.11228596, -0.0049434 , -0.00144949],\n",
              "         [ 0.10001312, -0.01300826,  0.00160571]],\n",
              " \n",
              "        [[ 0.07872578, -0.00353326, -0.00368248],\n",
              "         [ 0.11749697, -0.00121287, -0.00320818],\n",
              "         [ 0.11228596, -0.00494341, -0.00144949],\n",
              "         [ 0.10001311, -0.01300826,  0.00160572]]], dtype=float32),\n",
              " array([[[0, 0, 0],\n",
              "         [0, 0, 0],\n",
              "         [0, 0, 0],\n",
              "         ...,\n",
              "         [0, 0, 0],\n",
              "         [0, 0, 0],\n",
              "         [0, 0, 0]],\n",
              " \n",
              "        [[0, 0, 0],\n",
              "         [0, 0, 0],\n",
              "         [0, 0, 0],\n",
              "         ...,\n",
              "         [0, 0, 0],\n",
              "         [0, 0, 0],\n",
              "         [0, 0, 0]],\n",
              " \n",
              "        [[0, 0, 0],\n",
              "         [0, 0, 0],\n",
              "         [0, 0, 0],\n",
              "         ...,\n",
              "         [0, 0, 0],\n",
              "         [0, 0, 0],\n",
              "         [0, 0, 0]],\n",
              " \n",
              "        ...,\n",
              " \n",
              "        [[0, 0, 0],\n",
              "         [0, 0, 0],\n",
              "         [0, 0, 0],\n",
              "         ...,\n",
              "         [0, 0, 0],\n",
              "         [0, 0, 0],\n",
              "         [0, 0, 0]],\n",
              " \n",
              "        [[0, 0, 0],\n",
              "         [0, 0, 0],\n",
              "         [0, 0, 0],\n",
              "         ...,\n",
              "         [0, 0, 0],\n",
              "         [0, 0, 0],\n",
              "         [0, 0, 0]],\n",
              " \n",
              "        [[0, 0, 0],\n",
              "         [0, 0, 0],\n",
              "         [0, 0, 0],\n",
              "         ...,\n",
              "         [0, 0, 0],\n",
              "         [0, 0, 0],\n",
              "         [0, 0, 0]]]))"
            ]
          },
          "metadata": {},
          "execution_count": 75
        }
      ]
    },
    {
      "cell_type": "code",
      "source": [
        "    predictions = model.predict(X_test)\n",
        "    mse = np.mean(np.square(predictions - X_test), axis=2)  # Calculate MSE for each time step\n",
        "    threshold = np.percentile(mse, 95)  # Example threshold (95th percentile)\n",
        "\n"
      ],
      "metadata": {
        "id": "E46VsuAUVzXK",
        "outputId": "bb0852c1-8faa-46fd-95c2-b160ca969418",
        "colab": {
          "base_uri": "https://localhost:8080/"
        }
      },
      "execution_count": 16,
      "outputs": [
        {
          "output_type": "stream",
          "name": "stdout",
          "text": [
            "\u001b[1m1/1\u001b[0m \u001b[32m━━━━━━━━━━━━━━━━━━━━\u001b[0m\u001b[37m\u001b[0m \u001b[1m0s\u001b[0m 40ms/step\n"
          ]
        }
      ]
    },
    {
      "cell_type": "code",
      "source": [
        "mse,threshold"
      ],
      "metadata": {
        "id": "izjR7-AtV7Me",
        "outputId": "3a9f2e1b-671c-4f81-8ac0-f4ee867e40d9",
        "colab": {
          "base_uri": "https://localhost:8080/"
        }
      },
      "execution_count": 17,
      "outputs": [
        {
          "output_type": "execute_result",
          "data": {
            "text/plain": [
              "(array([[0.0020746 , 0.00460577, 0.00421156, 0.00339147],\n",
              "        [0.0020746 , 0.00460577, 0.00421156, 0.00339147]]),\n",
              " 0.004605767520890757)"
            ]
          },
          "metadata": {},
          "execution_count": 17
        }
      ]
    },
    {
      "cell_type": "code",
      "source": [
        "    anomaly_windows = np.where(np.any(mse > threshold, axis=1))[0]  # Identify anomaly windows\n",
        "    anomaly_windows\n"
      ],
      "metadata": {
        "id": "Hac1ceuAV06-",
        "outputId": "b7c1d56d-0c6f-4d14-896d-7a7e9af3e30a",
        "colab": {
          "base_uri": "https://localhost:8080/"
        }
      },
      "execution_count": 37,
      "outputs": [
        {
          "output_type": "execute_result",
          "data": {
            "text/plain": [
              "array([0])"
            ]
          },
          "metadata": {},
          "execution_count": 37
        }
      ]
    },
    {
      "cell_type": "code",
      "source": [
        "mse[0]"
      ],
      "metadata": {
        "id": "rMddRrPaWNnY",
        "outputId": "af518b51-48ab-4529-8ebf-5710dc237642",
        "colab": {
          "base_uri": "https://localhost:8080/"
        }
      },
      "execution_count": 30,
      "outputs": [
        {
          "output_type": "execute_result",
          "data": {
            "text/plain": [
              "array([0.0020746 , 0.00460577, 0.00421156, 0.00339147])"
            ]
          },
          "metadata": {},
          "execution_count": 30
        }
      ]
    },
    {
      "cell_type": "code",
      "source": [
        "np.where(mse[0] > threshold)"
      ],
      "metadata": {
        "id": "g2zOZw-YWfmb",
        "outputId": "48cc9ee2-a9ec-44ac-b299-a12c7a540639",
        "colab": {
          "base_uri": "https://localhost:8080/"
        }
      },
      "execution_count": 29,
      "outputs": [
        {
          "output_type": "execute_result",
          "data": {
            "text/plain": [
              "(array([1]),)"
            ]
          },
          "metadata": {},
          "execution_count": 29
        }
      ]
    },
    {
      "cell_type": "code",
      "source": [
        "    anomaly_observations = list()\n",
        "    for window_index in anomaly_windows:\n",
        "        window = mse[window_index]\n",
        "        anomaly_indices = np.where(window > threshold)[0]  # Find anomalies within the window\n",
        "        # Adjust indices to correspond to original dataset\n",
        "        anomaly_observations.extend(window_index * stride + anomaly_indices)"
      ],
      "metadata": {
        "id": "wjyrfCgeV1na"
      },
      "execution_count": 31,
      "outputs": []
    },
    {
      "cell_type": "code",
      "source": [
        "anomaly_windows[0], anomaly_observations"
      ],
      "metadata": {
        "id": "OmLjrOTyWC6-",
        "outputId": "ffdbe60e-b13e-429c-e158-67a2703c4a38",
        "colab": {
          "base_uri": "https://localhost:8080/"
        }
      },
      "execution_count": 36,
      "outputs": [
        {
          "output_type": "execute_result",
          "data": {
            "text/plain": [
              "(0, [1])"
            ]
          },
          "metadata": {},
          "execution_count": 36
        }
      ]
    },
    {
      "cell_type": "code",
      "source": [],
      "metadata": {
        "id": "9MOefceXWCtL"
      },
      "execution_count": null,
      "outputs": []
    }
  ]
}